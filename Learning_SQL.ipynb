{
 "cells": [
  {
   "cell_type": "markdown",
   "metadata": {},
   "source": [
    "# SQL @ Khan Academy"
   ]
  },
  {
   "cell_type": "markdown",
   "metadata": {},
   "source": [
    "There are different kind of database but one very popular one is relational database. i.e. Storing data in a spreadsheet.\n",
    "\n",
    "SQL is the most popular of all"
   ]
  },
  {
   "cell_type": "markdown",
   "metadata": {},
   "source": [
    "***\n",
    "## Create table in SQL\n",
    "\n",
    "To create table in SQL, use `CREATE TABLE` in all caps, and the table name as you like.\n",
    "\n",
    "Inside the round brackets you specify column names and data types. Typically, an ID column will be specified first and the type would be `INTEGER PRIMARY KEY`\n",
    "\n",
    "Certainly you can use tabs to make it readable\n",
    "\n",
    "> i.e.: CREATE TABLE groceries (id INTEGER PRIMARY KEY, name TEXT, quantity INTEGER);\n",
    "\n",
    "ID can be denoted with `AUTOINCREMENT` to have the id auto filled\n",
    "\n",
    "> i.e.: CREATE TABLE groceries (id INTEGER PRIMARY KEY AUTOINCREMENT, name TEXT, quantity INTEGER);"
   ]
  },
  {
   "cell_type": "markdown",
   "metadata": {},
   "source": [
    "***\n",
    "## Insert data into table\n",
    "\n",
    "Use `INSERT INTO` + table name + `VALUES` - to add values to the chosen table\n",
    "\n",
    "The number of values must match the number of columns\n",
    "\n",
    ">i.e.: INSERT INTO test_table VALUES (1, 'me', 3);\n",
    "\n",
    "When the id column is set to `AUTOINCREMENT`, the values can be inserted as so:\n",
    "\n",
    ">INSERT INTO test_table (column_1, column_2) VALUES (1, 2)"
   ]
  },
  {
   "cell_type": "markdown",
   "metadata": {},
   "source": [
    "***\n",
    "## Select elements\n",
    "\n",
    "Basic:\n",
    "\n",
    ">SELECT * FROM test_table;\n",
    "\n",
    "Some other verbs:\n",
    "Where verb option: LIKE, (>,<,=, !=), IS NULL, IN, etc.\n",
    "\n",
    ">SELECT * FROM test_table<br>\n",
    "WHERE column_a LIKE '%abc'<br>\n",
    "ORDER BY column_b DESC;\n",
    "\n",
    ">SELECT * FROM exercise_logs<br>\n",
    "WHERE type IN (<br>\n",
    "SELECT type FROM drs_favorites<br>\n",
    "WHERE reason = \"Increases cardiovascular health\")\n",
    "\n",
    "While selecting, we can use aggregation functions such as `SUM()` on chosen column:\n",
    "\n",
    ">SELECT SUM(quantity) FROM groceries;\n",
    "\n",
    "The verb `GROUP BY` can be added into the the query to add some information to the aggregate function. The query below will count the number of the items on each aisle:\n",
    "\n",
    ">SELECT aisle, SUM(quantity) FROM groceries<br>\n",
    "GROUP BY aisle;\n",
    "\n",
    "`AND` and `OR` can be use to use multiple conditions in WHERE statement:\n",
    "\n",
    ">SELECT * FROM store<br>\n",
    "WHERE price < 50 AND discount = TRUE OR free_delivery = TRUE\n",
    "\n",
    "`HAVING` verb can be added to add conditional statements on aggregated columns such as SUM(column_1):\n",
    "\n",
    ">SELECT type, SUM(calories) AS total_calories FROM exercise_logs<br>\n",
    "GROUP BY type<br>\n",
    "HAVING total_calories > 150;\n",
    "\n",
    "`COUNT` aggregate verb is used to, well count instances\n",
    "\n",
    ">SELECT type FROM exercise_logs GROUP BY type HAVING COUNT(*) >= 2;\n",
    "\n",
    "`CASE` verb is to create an additional column which can store conditional elements, such as results of a comparison. It goes with `WHEN` for stating conditions and `END` to end the case and give it a name with `AS`\n",
    "\n",
    ">SELECT COUNT(*),<br>\n",
    "    CASE<br>\n",
    "        WHEN heart_rate > 220-30 THEN \"above max\"<br>\n",
    "        WHEN heart_rate > ROUND(0.90 * (220-30)) THEN \"above target\"<br>\n",
    "        WHEN heart_rate > ROUND(0.50 * (220-30)) THEN \"within target\"<br>\n",
    "        ELSE \"below target\"<br>\n",
    "    END AS \"hr_zone\"<br>\n",
    "FROM exercise_logs<br>\n",
    "GROUP BY hr_zone;<br>"
   ]
  },
  {
   "cell_type": "markdown",
   "metadata": {},
   "source": [
    "***\n",
    "## Joins\n",
    "\n",
    "Cross Join is just pasting tables together and it will result in a table size of the product of all the table involved\n",
    "\n",
    ">SELECT * FROM table_a, table_b;\n",
    "\n",
    "Implicit inner join can be used by combining cross join and WHERE verb\n",
    "\n",
    ">SELECT * FROM table_a, table_b<br>\n",
    "WHERE table_a.id = table_b.id;\n",
    "\n",
    "Explicit inner join is better by using `JOIN` and `ON`\n",
    "\n",
    ">SELECT table_a.column_1, table_a.column_2, table_b.column_1 FROM table_a<br>\n",
    "JOIN table_b<br>\n",
    "ON table_a.id = table_b.id<br>\n",
    "WHERE ...\n",
    "\n",
    "Left outer join is to paste the table on the right to the table on the left and fill whatever is not available with NULL\n",
    "\n",
    ">SELECT persons.name, hobbies.name<br>\n",
    "FROM persons<br>\n",
    "LEFT OUTER JOIN hobbies<br>\n",
    "ON persons.id = hobbies.person_id;\n",
    "\n",
    "Self join is to join with itself with the help of an alias\n",
    "\n",
    ">SELECT students.first_name, students.last_name, buddies.email as buddy_email<br>\n",
    "    FROM students<br>\n",
    "    JOIN students buddies<br>\n",
    "    ON students.buddy_id = buddies.id;"
   ]
  },
  {
   "cell_type": "markdown",
   "metadata": {},
   "source": [
    "***\n",
    "## Update\n",
    "\n",
    "`UPDATE` can be used to change the content of the database. `UPDATE table_name SET column_name = new_content WHERE id = id (or some other identifier)`\n",
    "\n",
    "> UPDATE diary_logs SET content = 'something new' WHERE id = 1"
   ]
  },
  {
   "cell_type": "markdown",
   "metadata": {},
   "source": [
    "***\n",
    "## Delete\n",
    "\n",
    "`DELETE` can be used to remove the entry entirely based on identifier(s)\n",
    "\n",
    ">DELETE FROM table_name WHERE id = 1"
   ]
  },
  {
   "cell_type": "markdown",
   "metadata": {},
   "source": [
    "***\n",
    "## Alter\n",
    "\n",
    "`ALTER TABLE` can be used to add columns to an existing table\n",
    "\n",
    ">ALTER TABLE diary_logs ADD emotion TEXT default \"unknown\";"
   ]
  },
  {
   "cell_type": "markdown",
   "metadata": {},
   "source": [
    "***\n",
    "## Drop\n",
    "\n",
    "`DROP` is used to delete tables\n",
    "\n",
    ">DROP table_1"
   ]
  }
 ],
 "metadata": {
  "kernelspec": {
   "display_name": "Python 3",
   "language": "python",
   "name": "python3"
  },
  "language_info": {
   "codemirror_mode": {
    "name": "ipython",
    "version": 3
   },
   "file_extension": ".py",
   "mimetype": "text/x-python",
   "name": "python",
   "nbconvert_exporter": "python",
   "pygments_lexer": "ipython3",
   "version": "3.7.1"
  }
 },
 "nbformat": 4,
 "nbformat_minor": 2
}
