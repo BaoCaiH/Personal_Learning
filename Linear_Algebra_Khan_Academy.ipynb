{
 "cells": [
  {
   "cell_type": "markdown",
   "metadata": {},
   "source": [
    "# Linear Algebra @ Khan Academy"
   ]
  },
  {
   "cell_type": "markdown",
   "metadata": {},
   "source": [
    "## 1. Vector and Space\n",
    "***"
   ]
  },
  {
   "cell_type": "markdown",
   "metadata": {},
   "source": [
    "**Vector is a mathematical annotation which contains both magnitude and direction.**\n",
    "\n",
    "Its counterpart is a *scalar* which only contains magnitude.\n",
    "\n",
    "In Python, we can use a list to represent a vector, but numpy has a better solution."
   ]
  },
  {
   "cell_type": "code",
   "execution_count": 1,
   "metadata": {},
   "outputs": [
    {
     "data": {
      "text/plain": [
       "[2, 3, 4, 5]"
      ]
     },
     "execution_count": 1,
     "metadata": {},
     "output_type": "execute_result"
    }
   ],
   "source": [
    "a = [2, 3]\n",
    "b = [4, 5]\n",
    "a + b # This is what happen when we just Python list to represent a vector\n",
    "# Not exactly what we want"
   ]
  },
  {
   "cell_type": "markdown",
   "metadata": {},
   "source": [
    "Instead, we can try with python numpy"
   ]
  },
  {
   "cell_type": "code",
   "execution_count": 2,
   "metadata": {},
   "outputs": [
    {
     "data": {
      "text/plain": [
       "array([-2,  2])"
      ]
     },
     "execution_count": 2,
     "metadata": {},
     "output_type": "execute_result"
    }
   ],
   "source": [
    "import numpy as np\n",
    "a = np.array([2, 3])\n",
    "b = np.array([-4, -1])\n",
    "a + b\n",
    "# This is precisely how vector addition should happen"
   ]
  },
  {
   "cell_type": "code",
   "execution_count": 3,
   "metadata": {},
   "outputs": [
    {
     "data": {
      "text/plain": [
       "<Figure size 640x480 with 1 Axes>"
      ]
     },
     "metadata": {},
     "output_type": "display_data"
    }
   ],
   "source": [
    "import matplotlib.pyplot as plt\n",
    "origin = [0], [0] # origin point\n",
    "\n",
    "plt.quiver(*origin, [2, -4, -2], [3, -1, 2], color = ['r', 'b', 'g'], scale=10)\n",
    "# plt.quiver(*origin, a[0], a[1], scale = 10)\n",
    "plt.quiver([4], [-3], scale = 10)\n",
    "plt.show()"
   ]
  },
  {
   "cell_type": "markdown",
   "metadata": {},
   "source": [
    "In high Mathematics, the annotation of $R^2$ means that we are working with 2-dimensional real tuples or vectors.\n",
    "\n",
    "Which means there are only real numbers in a 2-dimensional vectors\n",
    "\n",
    "And the vectors could go up to much higher level and is represented by the number on top of the $R$ which means real numbers\n",
    "\n",
    "i.e.: $R^4$ = 4-dimensional real coordinate space\n",
    "\n",
    "**$R^n$ = n-dimensional real coordinate space**"
   ]
  },
  {
   "cell_type": "markdown",
   "metadata": {},
   "source": [
    "Side track, these are some might be useful mathematic representation in markdown\n",
    "\n",
    "$n^2$\n",
    "\n",
    "$e^{i\\pi} + 1 = 0$\n",
    "\n",
    "$$e^x=\\sum_{i=0}^\\infty \\frac{1}{i!}x^i$$"
   ]
  },
  {
   "cell_type": "markdown",
   "metadata": {},
   "source": [
    "When **doing addition with vector, we add the magnitude in each direction together**\n",
    "\n",
    "In graphical, this might make more sense"
   ]
  },
  {
   "attachments": {
    "image.png": {
     "image/png": "[encoded data removed]"
    }
   },
   "cell_type": "markdown",
   "metadata": {},
   "source": [
    "![image.png](attachment:image.png)"
   ]
  },
  {
   "cell_type": "markdown",
   "metadata": {},
   "source": [
    "When multiplying vectors with a scalar, what basically happen is a multiplication of a (magnitude, plane) with a (magnitude). Let's not say direction here because the plane is the line which a vector lies on, its direction is decided by the combination of its magnitude's sign and the plane"
   ]
  },
  {
   "cell_type": "code",
   "execution_count": 4,
   "metadata": {},
   "outputs": [
    {
     "name": "stdout",
     "output_type": "stream",
     "text": [
      "[2 3]\n"
     ]
    },
    {
     "data": {
      "text/plain": [
       "array([4, 6])"
      ]
     },
     "execution_count": 4,
     "metadata": {},
     "output_type": "execute_result"
    }
   ],
   "source": [
    "# Multiplying a vector with a positive scalar\n",
    "print(a)\n",
    "a * 2"
   ]
  },
  {
   "cell_type": "markdown",
   "metadata": {},
   "source": [
    "Its magnitudes are simply multiply with the given scalar"
   ]
  },
  {
   "cell_type": "code",
   "execution_count": 5,
   "metadata": {},
   "outputs": [
    {
     "name": "stdout",
     "output_type": "stream",
     "text": [
      "[2 3]\n"
     ]
    },
    {
     "data": {
      "text/plain": [
       "array([-6, -9])"
      ]
     },
     "execution_count": 5,
     "metadata": {},
     "output_type": "execute_result"
    }
   ],
   "source": [
    "# Multiplying a vector with a negative scalar\n",
    "print(a)\n",
    "a * -3"
   ]
  },
  {
   "cell_type": "markdown",
   "metadata": {},
   "source": [
    "When the sign of the magnitude changes, the direction of the vector changes on the original plane of the vector"
   ]
  },
  {
   "cell_type": "code",
   "execution_count": 6,
   "metadata": {},
   "outputs": [
    {
     "name": "stderr",
     "output_type": "stream",
     "text": [
      "/home/baocai/anaconda3/lib/python3.7/site-packages/matplotlib/quiver.py:665: RuntimeWarning: divide by zero encountered in double_scalars\n",
      "  length = a * (widthu_per_lenu / (self.scale * self.width))\n",
      "/home/baocai/anaconda3/lib/python3.7/site-packages/matplotlib/quiver.py:665: RuntimeWarning: invalid value encountered in multiply\n",
      "  length = a * (widthu_per_lenu / (self.scale * self.width))\n"
     ]
    },
    {
     "data": {
      "image/png": "[encoded data removed]",
      "text/plain": [
       "<Figure size 432x288 with 1 Axes>"
      ]
     },
     "metadata": {
      "needs_background": "light"
     },
     "output_type": "display_data"
    }
   ],
   "source": [
    "origin = [0], [0]\n",
    "plt.quiver(*origin)\n",
    "plt.quiver(a[0] * 2, a[1] * 2, scale = 30, color = 'y')\n",
    "plt.quiver(a[0] * -3, a[1] * -3, scale = 30, color = 'b')\n",
    "plt.quiver(a[0], a[1], scale = 30, color = 'r')\n",
    "plt.show()"
   ]
  },
  {
   "cell_type": "markdown",
   "metadata": {},
   "source": [
    "Vectors can be represented by unit vectors which are vectors has length 1.\n",
    "\n",
    "i = (1, 0) and j = (0, 1) are two unit vectors in $R^2$\n",
    "\n",
    "So if a = (3, 4) then a = 3i + 4j"
   ]
  },
  {
   "cell_type": "code",
   "execution_count": 7,
   "metadata": {},
   "outputs": [
    {
     "data": {
      "text/plain": [
       "array([ True,  True])"
      ]
     },
     "execution_count": 7,
     "metadata": {},
     "output_type": "execute_result"
    }
   ],
   "source": [
    "a = np.array([3, 4])\n",
    "i = np.array([1, 0])\n",
    "j = np.array([0, 1])\n",
    "a == 3 * i + 4 * j\n",
    "# Too true"
   ]
  },
  {
   "cell_type": "markdown",
   "metadata": {},
   "source": [
    "A vector's length is equal to the square root of the sum of square of the components of a vector\n",
    "\n",
    "$v = (x, y)$\n",
    "\n",
    "$|v| = \\sqrt{x^2 + y^2}$"
   ]
  },
  {
   "cell_type": "code",
   "execution_count": 8,
   "metadata": {},
   "outputs": [
    {
     "data": {
      "text/plain": [
       "5.0"
      ]
     },
     "execution_count": 8,
     "metadata": {},
     "output_type": "execute_result"
    }
   ],
   "source": [
    "np.linalg.norm(a)"
   ]
  },
  {
   "cell_type": "code",
   "execution_count": 9,
   "metadata": {},
   "outputs": [
    {
     "data": {
      "text/plain": [
       "5.0"
      ]
     },
     "execution_count": 9,
     "metadata": {},
     "output_type": "execute_result"
    }
   ],
   "source": [
    "np.sqrt(a[0]**2 + a[1]**2)"
   ]
  },
  {
   "cell_type": "markdown",
   "metadata": {},
   "source": [
    "Vectors can also be represented by a magnitude and its angle\n",
    "\n",
    "$b = (7, 200^o)$\n",
    "\n",
    "So\n",
    "\n",
    "$b = (7\\cos(200), 7\\sin(200))$\n",
    "\n",
    "$c = (5, 70^o) > c = (5\\cos(70), 5\\sin(70))$"
   ]
  },
  {
   "cell_type": "code",
   "execution_count": 10,
   "metadata": {},
   "outputs": [],
   "source": [
    "def vector_from_mag_and_angle(mag, angle):\n",
    "    return np.array([np.cos(np.pi*angle/180) * mag, np.sin(np.pi*angle/180) * mag])"
   ]
  },
  {
   "cell_type": "code",
   "execution_count": 11,
   "metadata": {},
   "outputs": [],
   "source": [
    "b = vector_from_mag_and_angle(7, 325)\n",
    "c = vector_from_mag_and_angle(8, 80)"
   ]
  },
  {
   "cell_type": "code",
   "execution_count": 12,
   "metadata": {},
   "outputs": [
    {
     "data": {
      "text/plain": [
       "array([7.12324973, 3.86342697])"
      ]
     },
     "execution_count": 12,
     "metadata": {},
     "output_type": "execute_result"
    }
   ],
   "source": [
    "b + c"
   ]
  },
  {
   "cell_type": "markdown",
   "metadata": {},
   "source": [
    "***\n",
    "For now this seems not related to Python but learning is learning\n",
    "\n",
    "If we want to **represent a line that goes through the vector**, we can use the annotation below\n",
    "\n",
    "Given a position vector (tail at 0, 0 and head points at a point):\n",
    "$\\vec{v} = (2, 1)$\n",
    "\n",
    "So line: $S = \\{c*\\vec{v}\\mid c \\in \\mathbb{R}\\}$\n",
    "\n",
    "Then if we have another position vector: $\\vec{u} = (3, 4)$\n",
    "\n",
    "From vector $\\vec{v}$ to $\\vec{u}$, the differences is $\\vec{x} = (1, 3)$\n",
    "\n",
    "So the line parallel to the original line, and goes through the second point is:\n",
    "\n",
    "$L = \\{\\vec{x} + c*\\vec{v}\\mid c \\in \\mathbb{R}\\}$"
   ]
  },
  {
   "cell_type": "markdown",
   "metadata": {},
   "source": [
    "***\n",
    "**Linear combinations are ways to combine 2 different vectors**\n",
    "\n",
    "Say we have $\\vec{v} = (2, 3)$ and $\\vec{u} = (3, 2)$\n",
    "\n",
    "The linear combination of these two vectors are $a*\\vec{v} + b*\\vec{u}$\n",
    "\n",
    "And the span is the group of position vectors which the linear combination of the two vectors can represent\n",
    "\n",
    "For any two not co-linear vectors, not parallel, including vector $(0, 0)$, the span of the two vectors is the whole $\\mathbb{R}^2$\n",
    "\n",
    "$Span(\\vec{v}, \\vec{u}) = \\mathbb{R}^2$\n",
    "\n",
    "The span for any one vector is the line it lies on"
   ]
  },
  {
   "cell_type": "markdown",
   "metadata": {},
   "source": [
    "A set of vectors, which are co-linear are called linearly dependent\n",
    "\n",
    "Which means, if there are two vectors in the set, say: $Span(\\{(2,3), (4,6)\\})$\n",
    "\n",
    "$(4,6)$ can be easily represented by $2*(2,3)$ so they are linearly dependent\n",
    "\n",
    "Because, the additional vector $(4,6)$ does not add another dimension to the span of the original vector $(2,3)$ so they are linearly dependent\n",
    "\n",
    "In case of a set of three vectors in 3-dimentional\n",
    "\n",
    "$(2,3,4), (0,1,9), (2,4,13)$\n",
    "\n",
    "The last vector can be represented by the two original vectors so it is also linearly dependent"
   ]
  },
  {
   "cell_type": "markdown",
   "metadata": {},
   "source": [
    "A set of vectors $S = \\{\\vec{v1}, \\vec{v2}, ..., \\vec{vn}\\}$ are linearly dependence if and only if $c1*\\vec{v1} + c2*\\vec{v2} + ... + cn*\\vec{vn} = \\vec{0}$ when at least one $ci is not 0$\n",
    "\n",
    "In mathematics:\n",
    "\n",
    "$S = \\{\\vec{v1}, \\vec{v2}, ..., \\vec{vn}\\} \\iff c1*\\vec{v1} + c2*\\vec{v2} + ... + cn*\\vec{vn} = \\vec{0}$ when $ci \\neq 0$"
   ]
  },
  {
   "cell_type": "code",
   "execution_count": 13,
   "metadata": {},
   "outputs": [],
   "source": [
    "v1 = np.array([1, -1, 2])\n",
    "v2 = np.array([1, 1, 3])\n",
    "v3 = np.array([-1, 0, 2])"
   ]
  },
  {
   "cell_type": "markdown",
   "metadata": {},
   "source": [
    "<b> New Topic <b>\n",
    "    \n",
    "asdfasdfasdf "
   ]
  },
  {
   "cell_type": "code",
   "execution_count": null,
   "metadata": {},
   "outputs": [],
   "source": []
  },
  {
   "cell_type": "code",
   "execution_count": null,
   "metadata": {},
   "outputs": [],
   "source": []
  }
 ],
 "metadata": {
  "kernelspec": {
   "display_name": "Python 3",
   "language": "python",
   "name": "python3"
  },
  "language_info": {
   "codemirror_mode": {
    "name": "ipython",
    "version": 3
   },
   "file_extension": ".py",
   "mimetype": "text/x-python",
   "name": "python",
   "nbconvert_exporter": "python",
   "pygments_lexer": "ipython3",
   "version": "3.7.1"
  }
 },
 "nbformat": 4,
 "nbformat_minor": 2
}
